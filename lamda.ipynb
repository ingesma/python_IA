{
 "cells": [
  {
   "cell_type": "code",
   "execution_count": 4,
   "metadata": {},
   "outputs": [
    {
     "data": {
      "text/plain": [
       "25"
      ]
     },
     "execution_count": 4,
     "metadata": {},
     "output_type": "execute_result"
    }
   ],
   "source": [
    "def multiply(x):\n",
    "    return x*5\n",
    "multiply(5)\n"
   ]
  },
  {
   "cell_type": "code",
   "execution_count": 8,
   "metadata": {},
   "outputs": [
    {
     "data": {
      "text/plain": [
       "25"
      ]
     },
     "execution_count": 8,
     "metadata": {},
     "output_type": "execute_result"
    }
   ],
   "source": [
    "multiply_lambda = lambda x: x*5\n",
    "multiply_lambda(5)"
   ]
  },
  {
   "cell_type": "code",
   "execution_count": 11,
   "metadata": {},
   "outputs": [
    {
     "data": {
      "text/plain": [
       "True"
      ]
     },
     "execution_count": 11,
     "metadata": {},
     "output_type": "execute_result"
    }
   ],
   "source": [
    "divisible=lambda x, y: x%y==0\n",
    "divisible(30,5)"
   ]
  },
  {
   "cell_type": "code",
   "execution_count": 16,
   "metadata": {},
   "outputs": [
    {
     "data": {
      "text/plain": [
       "[4, 0, 2]"
      ]
     },
     "execution_count": 16,
     "metadata": {},
     "output_type": "execute_result"
    }
   ],
   "source": [
    "#filter\n",
    "numbers=[4,0,9,2]\n",
    "def multiple_dos(x):\n",
    "    return x % 2 == 0\n",
    "\n",
    "#list(filter(multiple_dos,numbers))\n",
    "list(filter(lambda x: x%2 == 0, numbers))\n",
    "\n"
   ]
  },
  {
   "cell_type": "code",
   "execution_count": 17,
   "metadata": {},
   "outputs": [
    {
     "data": {
      "text/plain": [
       "[True, True, False, True]"
      ]
     },
     "execution_count": 17,
     "metadata": {},
     "output_type": "execute_result"
    }
   ],
   "source": [
    "#lambda map: evalua 1 a 1 y los restorna\n",
    "\n",
    "#map\n",
    "numbers=[4,0,9,2]\n",
    "def multiple_dos(x):\n",
    "    return x % 2 == 0\n",
    "\n",
    "list(map(multiple_dos,numbers))\n",
    "#list(filter(lambda x: x%2 == 0, numbers))\n",
    "\n"
   ]
  },
  {
   "cell_type": "code",
   "execution_count": 18,
   "metadata": {},
   "outputs": [
    {
     "data": {
      "text/plain": [
       "[True, True, False, True]"
      ]
     },
     "execution_count": 18,
     "metadata": {},
     "output_type": "execute_result"
    }
   ],
   "source": [
    "#lambda map: evalua 1 a 1 y los restorna\n",
    "\n",
    "#map\n",
    "numbers=[4,0,9,2]\n",
    "def multiple_dos(x):\n",
    "    return x % 2 == 0\n",
    "\n",
    "#list(map(multiple_dos,numbers))\n",
    "list(map(lambda x: x%2 == 0, numbers))\n"
   ]
  },
  {
   "cell_type": "code",
   "execution_count": 20,
   "metadata": {},
   "outputs": [
    {
     "name": "stdout",
     "output_type": "stream",
     "text": [
      "['Mary', 'Jose']\n"
     ]
    }
   ],
   "source": [
    "# filter\n",
    "\n",
    "things= ['Mary','food',\"laptop\", \"Jose\"]\n",
    "# filter\n",
    "names= list(filter(lambda x:x[0].isupper(), things))\n",
    "print(names)\n",
    "#test='steavens'\n",
    "#print(test[0])"
   ]
  },
  {
   "cell_type": "code",
   "execution_count": 22,
   "metadata": {},
   "outputs": [
    {
     "name": "stdout",
     "output_type": "stream",
     "text": [
      "['Mary', 'Jose']\n",
      "[True, False, False, True]\n"
     ]
    }
   ],
   "source": [
    "# map\n",
    "things= ['Mary','food',\"laptop\", \"Jose\"]\n",
    "names= list(filter(lambda x:x[0].isupper(), things))\n",
    "print(names)\n",
    "check_names= list(map(lambda x:x[0].isupper(), things))\n",
    "print(check_names)\n"
   ]
  }
 ],
 "metadata": {
  "interpreter": {
   "hash": "1fcc90ae7fe19eaea62c6d6fb7baf22741c424b017c09a06c935c0c77667532b"
  },
  "kernelspec": {
   "display_name": "Python 3.8.5 64-bit",
   "language": "python",
   "name": "python3"
  },
  "language_info": {
   "codemirror_mode": {
    "name": "ipython",
    "version": 3
   },
   "file_extension": ".py",
   "mimetype": "text/x-python",
   "name": "python",
   "nbconvert_exporter": "python",
   "pygments_lexer": "ipython3",
   "version": "3.8.5"
  },
  "orig_nbformat": 4
 },
 "nbformat": 4,
 "nbformat_minor": 2
}
