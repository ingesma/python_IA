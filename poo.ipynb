{
 "cells": [
  {
   "cell_type": "code",
   "execution_count": 22,
   "metadata": {},
   "outputs": [],
   "source": [
    "class Worker:\n",
    "    def __init__(self, name, age):\n",
    "        self.name = name\n",
    "        self.age = age\n",
    "    \n",
    "    def set_salary(self, salary):\n",
    "        self.salary= salary\n",
    "    \n",
    "    def get_net_salary(self):\n",
    "        return 0.9*self.salary\n",
    "    \n",
    "\n",
    "\n"
   ]
  },
  {
   "cell_type": "code",
   "execution_count": 24,
   "metadata": {},
   "outputs": [
    {
     "name": "stdout",
     "output_type": "stream",
     "text": [
      "Juan\n",
      "40\n",
      "400\n",
      "360.0\n"
     ]
    }
   ],
   "source": [
    "worker_one=Worker('Juan', 40)\n",
    "\n",
    "print (worker_one.name)\n",
    "print (worker_one.age)\n",
    "\n",
    "worker_one.set_salary(400)\n",
    "\n",
    "print (worker_one.salary)\n",
    "print (worker_one.get_net_salary())"
   ]
  },
  {
   "cell_type": "code",
   "execution_count": 3,
   "metadata": {},
   "outputs": [
    {
     "data": {
      "text/plain": [
       "<__main__.Worker at 0x16a79efef10>"
      ]
     },
     "execution_count": 3,
     "metadata": {},
     "output_type": "execute_result"
    }
   ],
   "source": [
    "Worker('Juan', 40)"
   ]
  },
  {
   "cell_type": "code",
   "execution_count": 26,
   "metadata": {},
   "outputs": [
    {
     "name": "stdout",
     "output_type": "stream",
     "text": [
      "Jose\n",
      "35\n"
     ]
    }
   ],
   "source": [
    "worker_one.name = 'Jose'\n",
    "print(worker_one.name)\n",
    "\n",
    "worker_one.age=35\n",
    "print(worker_one.age)"
   ]
  },
  {
   "cell_type": "code",
   "execution_count": null,
   "metadata": {},
   "outputs": [],
   "source": [
    "#herencia\n",
    "\n",
    "class Doctor(Worker):\n",
    "    def __init__(self, name, age, especialidad):\n",
    "        Worker.__init__(self, name, age)\n",
    "        self.especialidad = especialidad\n",
    "    def schedule_operacion(self):\n",
    "        if self.especialidad == 'cardiologo':\n",
    "            return '8 am'\n",
    "        elif self.especialidad == 'neorulogo':\n",
    "            return '4 pm'\n",
    "        else:\n",
    "            return '12 pm'\n",
    "    def get_net_salary(self):\n",
    "        if self.especialidad == 'cardiologo':\n",
    "            return self.salary*1.5\n",
    "        elif self.especialidad == 'neorulogo':\n",
    "            return self.salary*2\n",
    "        else:\n",
    "            return '12 pm'\n",
    "\n",
    "\n",
    "\n"
   ]
  }
 ],
 "metadata": {
  "interpreter": {
   "hash": "1fcc90ae7fe19eaea62c6d6fb7baf22741c424b017c09a06c935c0c77667532b"
  },
  "kernelspec": {
   "display_name": "Python 3.8.5 64-bit",
   "language": "python",
   "name": "python3"
  },
  "language_info": {
   "codemirror_mode": {
    "name": "ipython",
    "version": 3
   },
   "file_extension": ".py",
   "mimetype": "text/x-python",
   "name": "python",
   "nbconvert_exporter": "python",
   "pygments_lexer": "ipython3",
   "version": "3.8.5"
  },
  "orig_nbformat": 4
 },
 "nbformat": 4,
 "nbformat_minor": 2
}
