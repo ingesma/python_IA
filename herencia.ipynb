{
 "cells": [
  {
   "cell_type": "code",
   "execution_count": 9,
   "metadata": {},
   "outputs": [],
   "source": [
    "class Worker:\n",
    "    def __init__(self, name, age):\n",
    "        self.name = name\n",
    "        self.age = age\n",
    "        \n",
    "    #metodo crear  salario\n",
    "    def set_salary(self, salary):\n",
    "        self.salary= salary\n",
    "    \n",
    "    \n",
    "    def get_net_salary(self):\n",
    "        return 0.9*self.salary\n",
    "    \n",
    "\n",
    "\n"
   ]
  },
  {
   "cell_type": "code",
   "execution_count": 10,
   "metadata": {},
   "outputs": [],
   "source": [
    "#herencia\n",
    "\n",
    "class Doctor(Worker):\n",
    "    def __init__(self, name, age, especialidad):\n",
    "        Worker.__init__(self, name, age)\n",
    "        self.especialidad = especialidad\n",
    "\n",
    "    #crear método extra en clase hija\n",
    "    def schedule_operacion(self):\n",
    "        if self.especialidad == 'cardiologo':\n",
    "            return '8 am'\n",
    "        elif self.especialidad == 'neorulogo':\n",
    "            return '4 pm'\n",
    "        else:\n",
    "            return '12 pm'\n",
    "\n",
    "  #modificar método en clase hija\n",
    "    def get_net_salary(self):\n",
    "        #llamar a método y pasar clase hija\n",
    "        Worker.set_salary(self, 1000)\n",
    "        if self.especialidad == 'cardiologo':\n",
    "            return self.salary*1.5\n",
    "        elif self.especialidad == 'neorulogo':\n",
    "            return self.salary*2\n",
    "        else:\n",
    "            return self.salary\n",
    "\n",
    "\n",
    "\n"
   ]
  },
  {
   "cell_type": "code",
   "execution_count": 11,
   "metadata": {},
   "outputs": [
    {
     "name": "stdout",
     "output_type": "stream",
     "text": [
      "45\n",
      "8 am\n",
      "1500.0\n"
     ]
    }
   ],
   "source": [
    "#instanciar clase hija\n",
    "doctor= Doctor('Luis', 45, 'cardiologo')\n",
    "print(doctor.age)\n",
    "\n",
    "print(doctor.schedule_operacion())\n",
    "print(doctor.get_net_salary())"
   ]
  }
 ],
 "metadata": {
  "interpreter": {
   "hash": "1fcc90ae7fe19eaea62c6d6fb7baf22741c424b017c09a06c935c0c77667532b"
  },
  "kernelspec": {
   "display_name": "Python 3.8.5 64-bit",
   "language": "python",
   "name": "python3"
  },
  "language_info": {
   "codemirror_mode": {
    "name": "ipython",
    "version": 3
   },
   "file_extension": ".py",
   "mimetype": "text/x-python",
   "name": "python",
   "nbconvert_exporter": "python",
   "pygments_lexer": "ipython3",
   "version": "3.8.5"
  },
  "orig_nbformat": 4
 },
 "nbformat": 4,
 "nbformat_minor": 2
}
